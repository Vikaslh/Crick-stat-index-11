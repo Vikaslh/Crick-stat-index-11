{
 "cells": [
  {
   "cell_type": "code",
   "execution_count": 2,
   "metadata": {},
   "outputs": [],
   "source": [
    "import pandas as pd\n",
    "from itertools import combinations\n",
    "from sklearn.metrics import mean_squared_error\n",
    "from sklearn.linear_model import LinearRegression\n",
    "from sklearn.model_selection import train_test_split"
   ]
  },
  {
   "cell_type": "code",
   "execution_count": 3,
   "metadata": {},
   "outputs": [
    {
     "name": "stdout",
     "output_type": "stream",
     "text": [
      "            Player         Team       Span  Mat  Inns  NO  Bat_Runs   HS  \\\n",
      "0          V Kohli        INDIA  2010-2019   75    70  20      2633  94*   \n",
      "1        RG Sharma        INDIA  2007-2019  104    96  14      2633  118   \n",
      "2       MJ Guptill  NEW ZEALAND  2009-2019   83    80   7      2436  105   \n",
      "3     Shoaib Malik     PAKISTAN  2006-2019  111   104  30      2263   75   \n",
      "4      BB McCullum  NEW ZEALAND  2005-2015   71    70  10      2140  123   \n",
      "...            ...          ...        ...  ...   ...  ..       ...  ...   \n",
      "2099  RazaurRehman            0          0    0     0   0         0    0   \n",
      "2100     ImamulHaq            0          0    0     0   0         0    0   \n",
      "2101  InzamamulHaq            0          0    0     0   0         0    0   \n",
      "2102   MisbahulHaq            0          0    0     0   0         0    0   \n",
      "2103  C MunozMills            0          0    0     0   0         0    0   \n",
      "\n",
      "        Ave    BF  ...  Mdns  Bowl_Runs  Wkts  Bowl_Ave   Econ  Bowl_SSR  St  \\\n",
      "0     52.66  1907  ...     0        198     4      49.5   8.13      36.5   0   \n",
      "1     32.10  1905  ...     0        113     1     113.0   9.97      68.0   0   \n",
      "2     33.36  1810  ...     0         11     0       0.0  11.00       0.0   0   \n",
      "3     30.58  1824  ...     0        644    28      23.0   7.15      19.2   0   \n",
      "4     35.66  1571  ...     0          0     0       0.0   0.00       0.0   8   \n",
      "...     ...   ...  ...   ...        ...   ...       ...    ...       ...  ..   \n",
      "2099   0.00     0  ...     0         58     2      29.0   6.44      27.0   0   \n",
      "2100   0.00     0  ...     0          0     0       0.0   0.00       0.0   0   \n",
      "2101   0.00     0  ...     0          0     0       0.0   0.00       0.0   0   \n",
      "2102   0.00     0  ...     0          0     0       0.0   0.00       0.0   0   \n",
      "2103   0.00     0  ...     0          0     0       0.0   0.00       0.0   0   \n",
      "\n",
      "        D/I  Type  Points  \n",
      "0     0.493   NaN     NaN  \n",
      "1     0.365   NaN     NaN  \n",
      "2     0.560   NaN     NaN  \n",
      "3     0.450   NaN     NaN  \n",
      "4     0.619   NaN     NaN  \n",
      "...     ...   ...     ...  \n",
      "2099  0.000   NaN     NaN  \n",
      "2100  0.000   NaN     NaN  \n",
      "2101  0.000   NaN     NaN  \n",
      "2102  0.000   NaN     NaN  \n",
      "2103  0.000   NaN     NaN  \n",
      "\n",
      "[2104 rows x 28 columns]\n"
     ]
    }
   ],
   "source": [
    "file_path = 'C:\\\\Users\\\\SATWIK M BADIGER\\\\Desktop\\\\final.csv'\n",
    "player_data = pd.read_csv(file_path)\n",
    "print(player_data)"
   ]
  },
  {
   "cell_type": "code",
   "execution_count": 4,
   "metadata": {},
   "outputs": [],
   "source": [
    "# Feature engineering and data preprocessing (you can add more features)\n",
    "player_data['Combined_Score'] = player_data['Ave'] + player_data['SR']"
   ]
  },
  {
   "cell_type": "code",
   "execution_count": 5,
   "metadata": {},
   "outputs": [
    {
     "data": {
      "text/html": [
       "<style>#sk-container-id-1 {color: black;}#sk-container-id-1 pre{padding: 0;}#sk-container-id-1 div.sk-toggleable {background-color: white;}#sk-container-id-1 label.sk-toggleable__label {cursor: pointer;display: block;width: 100%;margin-bottom: 0;padding: 0.3em;box-sizing: border-box;text-align: center;}#sk-container-id-1 label.sk-toggleable__label-arrow:before {content: \"▸\";float: left;margin-right: 0.25em;color: #696969;}#sk-container-id-1 label.sk-toggleable__label-arrow:hover:before {color: black;}#sk-container-id-1 div.sk-estimator:hover label.sk-toggleable__label-arrow:before {color: black;}#sk-container-id-1 div.sk-toggleable__content {max-height: 0;max-width: 0;overflow: hidden;text-align: left;background-color: #f0f8ff;}#sk-container-id-1 div.sk-toggleable__content pre {margin: 0.2em;color: black;border-radius: 0.25em;background-color: #f0f8ff;}#sk-container-id-1 input.sk-toggleable__control:checked~div.sk-toggleable__content {max-height: 200px;max-width: 100%;overflow: auto;}#sk-container-id-1 input.sk-toggleable__control:checked~label.sk-toggleable__label-arrow:before {content: \"▾\";}#sk-container-id-1 div.sk-estimator input.sk-toggleable__control:checked~label.sk-toggleable__label {background-color: #d4ebff;}#sk-container-id-1 div.sk-label input.sk-toggleable__control:checked~label.sk-toggleable__label {background-color: #d4ebff;}#sk-container-id-1 input.sk-hidden--visually {border: 0;clip: rect(1px 1px 1px 1px);clip: rect(1px, 1px, 1px, 1px);height: 1px;margin: -1px;overflow: hidden;padding: 0;position: absolute;width: 1px;}#sk-container-id-1 div.sk-estimator {font-family: monospace;background-color: #f0f8ff;border: 1px dotted black;border-radius: 0.25em;box-sizing: border-box;margin-bottom: 0.5em;}#sk-container-id-1 div.sk-estimator:hover {background-color: #d4ebff;}#sk-container-id-1 div.sk-parallel-item::after {content: \"\";width: 100%;border-bottom: 1px solid gray;flex-grow: 1;}#sk-container-id-1 div.sk-label:hover label.sk-toggleable__label {background-color: #d4ebff;}#sk-container-id-1 div.sk-serial::before {content: \"\";position: absolute;border-left: 1px solid gray;box-sizing: border-box;top: 0;bottom: 0;left: 50%;z-index: 0;}#sk-container-id-1 div.sk-serial {display: flex;flex-direction: column;align-items: center;background-color: white;padding-right: 0.2em;padding-left: 0.2em;position: relative;}#sk-container-id-1 div.sk-item {position: relative;z-index: 1;}#sk-container-id-1 div.sk-parallel {display: flex;align-items: stretch;justify-content: center;background-color: white;position: relative;}#sk-container-id-1 div.sk-item::before, #sk-container-id-1 div.sk-parallel-item::before {content: \"\";position: absolute;border-left: 1px solid gray;box-sizing: border-box;top: 0;bottom: 0;left: 50%;z-index: -1;}#sk-container-id-1 div.sk-parallel-item {display: flex;flex-direction: column;z-index: 1;position: relative;background-color: white;}#sk-container-id-1 div.sk-parallel-item:first-child::after {align-self: flex-end;width: 50%;}#sk-container-id-1 div.sk-parallel-item:last-child::after {align-self: flex-start;width: 50%;}#sk-container-id-1 div.sk-parallel-item:only-child::after {width: 0;}#sk-container-id-1 div.sk-dashed-wrapped {border: 1px dashed gray;margin: 0 0.4em 0.5em 0.4em;box-sizing: border-box;padding-bottom: 0.4em;background-color: white;}#sk-container-id-1 div.sk-label label {font-family: monospace;font-weight: bold;display: inline-block;line-height: 1.2em;}#sk-container-id-1 div.sk-label-container {text-align: center;}#sk-container-id-1 div.sk-container {/* jupyter's `normalize.less` sets `[hidden] { display: none; }` but bootstrap.min.css set `[hidden] { display: none !important; }` so we also need the `!important` here to be able to override the default hidden behavior on the sphinx rendered scikit-learn.org. See: https://github.com/scikit-learn/scikit-learn/issues/21755 */display: inline-block !important;position: relative;}#sk-container-id-1 div.sk-text-repr-fallback {display: none;}</style><div id=\"sk-container-id-1\" class=\"sk-top-container\"><div class=\"sk-text-repr-fallback\"><pre>LinearRegression()</pre><b>In a Jupyter environment, please rerun this cell to show the HTML representation or trust the notebook. <br />On GitHub, the HTML representation is unable to render, please try loading this page with nbviewer.org.</b></div><div class=\"sk-container\" hidden><div class=\"sk-item\"><div class=\"sk-estimator sk-toggleable\"><input class=\"sk-toggleable__control sk-hidden--visually\" id=\"sk-estimator-id-1\" type=\"checkbox\" checked><label for=\"sk-estimator-id-1\" class=\"sk-toggleable__label sk-toggleable__label-arrow\">LinearRegression</label><div class=\"sk-toggleable__content\"><pre>LinearRegression()</pre></div></div></div></div></div>"
      ],
      "text/plain": [
       "LinearRegression()"
      ]
     },
     "execution_count": 5,
     "metadata": {},
     "output_type": "execute_result"
    }
   ],
   "source": [
    "# Selecting the best playing 11 using a simple linear regression model\n",
    "X = player_data[['Ave', 'SR']]\n",
    "y = player_data['Combined_Score']\n",
    "\n",
    "X_train, X_test, y_train, y_test = train_test_split(X, y, test_size=0.2, random_state=42)\n",
    "\n",
    "model = LinearRegression()\n",
    "model.fit(X_train, y_train)"
   ]
  },
  {
   "cell_type": "code",
   "execution_count": 6,
   "metadata": {},
   "outputs": [],
   "source": [
    "# Generate combinations using a generator\n",
    "players = player_data['Player']\n",
    "combinations_generator = combinations(players, 11)\n",
    "\n",
    "best_team = None\n",
    "best_score = float('inf')"
   ]
  },
  {
   "cell_type": "code",
   "execution_count": 7,
   "metadata": {},
   "outputs": [],
   "source": [
    "# Define a function to calculate the combined score for a combination\n",
    "def calculate_combined_score(combination):\n",
    "    selected_players = player_data[player_data['Player'].isin(combination)]\n",
    "    return selected_players[['Ave','SR']].sum().sum()"
   ]
  },
  {
   "cell_type": "code",
   "execution_count": 8,
   "metadata": {},
   "outputs": [],
   "source": [
    "# Iterate through the combinations and calculate scores\n",
    "for combination in combinations_generator:\n",
    "    score = calculate_combined_score(combination)\n",
    "    if score < best_score:\n",
    "        best_score = score\n",
    "        best_team = combination"
   ]
  },
  {
   "cell_type": "code",
   "execution_count": null,
   "metadata": {},
   "outputs": [],
   "source": [
    "print(f\"Best Playing 11: {best_team} with a combined score of {best_score:.2f}\")"
   ]
  }
 ],
 "metadata": {
  "kernelspec": {
   "display_name": "Python 3",
   "language": "python",
   "name": "python3"
  },
  "language_info": {
   "codemirror_mode": {
    "name": "ipython",
    "version": 3
   },
   "file_extension": ".py",
   "mimetype": "text/x-python",
   "name": "python",
   "nbconvert_exporter": "python",
   "pygments_lexer": "ipython3",
   "version": "3.11.4"
  }
 },
 "nbformat": 4,
 "nbformat_minor": 2
}
